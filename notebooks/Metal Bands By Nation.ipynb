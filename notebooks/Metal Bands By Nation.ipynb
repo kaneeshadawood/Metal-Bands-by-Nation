{
 "cells": [
  {
   "cell_type": "markdown",
   "metadata": {},
   "source": [
    "# Metal Bands by Nation  \\m/"
   ]
  },
  {
   "cell_type": "markdown",
   "metadata": {},
   "source": [
    "# A. Introduction\n",
    "\n",
    "\"Music is like a mirror, and it tells people a lot about who you are and what you care about, whether you like it or not. We love to say \"you are what you stream,\" - Spotify\n",
    "\n",
    "Metal music was developed in the late 1960s largely in the United Kingdom. It introduced a new form of the empathic beat with massive sounds, extended guitar solos, and extreme loudness. Not many people enjoy metal music due to the fear of its complexity. Nevertheless, research shows that metal music makes you calmer and helps heal aggression and stress. \n",
    "\n",
    "INSPIRATION: \n",
    "\n",
    "Music is something I consume every day. Metal music used to be one of my favorite genres a decade ago. I am fascinated by exploring the unique features of the different metal bands in the universe. Listening to Heavy Metal helped me stay calm and purge negative emotions. \n",
    "\n",
    "GOALS:\n",
    "\n",
    "Given the data, I will use my knowledge to run an experiment to see if there is an increase in the number of fans for metal bands based on its country. I intend to use statistical inference testing in deriving sufficient results for the experiment. "
   ]
  },
  {
   "cell_type": "markdown",
   "metadata": {},
   "source": [
    "# B. Problem Statement:\n",
    "\n",
    "The fanbase for metal music has been increasing rapidly for over a decade but;\n",
    "- Is there any indication of the increase in fans for metal music according to its country of origin?\n",
    "- What is the relationship between the bands and fans based on their country of origin?\n",
    "- Are more bands being originated in the United States or Sweden?\n",
    "\n",
    "I decided to run a statistical inference test to derive an accurate result, even though I believe that the United States has a large number of the fanbase for metal music.\n",
    "\n",
    "I am fortunate to stumble upon the dataset on Kaggle: \"Metal Bands by Nation\" (https://www.kaggle.com/mrpantherson/metal-by-nation). I intend to use the data from this dataset to further analyze a solution to the problem."
   ]
  },
  {
   "cell_type": "markdown",
   "metadata": {},
   "source": [
    "Let's try to solve this problem through an experiment using the data science toolkit. "
   ]
  },
  {
   "cell_type": "code",
   "execution_count": 1,
   "metadata": {},
   "outputs": [],
   "source": [
    "# Importing packages\n",
    "import pandas as pd\n",
    "import numpy as np\n",
    "import matplotlib.pyplot as plt\n",
    "from scipy.stats import ttest_ind\n",
    "import seaborn as sns\n",
    "%matplotlib inline"
   ]
  },
  {
   "cell_type": "code",
   "execution_count": 2,
   "metadata": {},
   "outputs": [],
   "source": [
    "import os \n",
    "path = \"/home/kaneeshadawood/Datasets/metal_bands_2017.csv\""
   ]
  },
  {
   "cell_type": "code",
   "execution_count": 3,
   "metadata": {
    "scrolled": true
   },
   "outputs": [
    {
     "data": {
      "text/html": [
       "<div>\n",
       "<style scoped>\n",
       "    .dataframe tbody tr th:only-of-type {\n",
       "        vertical-align: middle;\n",
       "    }\n",
       "\n",
       "    .dataframe tbody tr th {\n",
       "        vertical-align: top;\n",
       "    }\n",
       "\n",
       "    .dataframe thead th {\n",
       "        text-align: right;\n",
       "    }\n",
       "</style>\n",
       "<table border=\"1\" class=\"dataframe\">\n",
       "  <thead>\n",
       "    <tr style=\"text-align: right;\">\n",
       "      <th></th>\n",
       "      <th>band_name</th>\n",
       "      <th>fans</th>\n",
       "      <th>formed</th>\n",
       "      <th>origin</th>\n",
       "      <th>split</th>\n",
       "      <th>style</th>\n",
       "    </tr>\n",
       "  </thead>\n",
       "  <tbody>\n",
       "    <tr>\n",
       "      <td>0</td>\n",
       "      <td>Iron Maiden</td>\n",
       "      <td>4195</td>\n",
       "      <td>1975</td>\n",
       "      <td>United Kingdom</td>\n",
       "      <td>-</td>\n",
       "      <td>New wave of british heavy,Heavy</td>\n",
       "    </tr>\n",
       "    <tr>\n",
       "      <td>1</td>\n",
       "      <td>Opeth</td>\n",
       "      <td>4147</td>\n",
       "      <td>1990</td>\n",
       "      <td>Sweden</td>\n",
       "      <td>1990</td>\n",
       "      <td>Extreme progressive,Progressive rock,Progressive</td>\n",
       "    </tr>\n",
       "    <tr>\n",
       "      <td>2</td>\n",
       "      <td>Metallica</td>\n",
       "      <td>3712</td>\n",
       "      <td>1981</td>\n",
       "      <td>USA</td>\n",
       "      <td>-</td>\n",
       "      <td>Heavy,Bay area thrash</td>\n",
       "    </tr>\n",
       "    <tr>\n",
       "      <td>3</td>\n",
       "      <td>Megadeth</td>\n",
       "      <td>3105</td>\n",
       "      <td>1983</td>\n",
       "      <td>USA</td>\n",
       "      <td>1983</td>\n",
       "      <td>Thrash,Heavy,Hard rock</td>\n",
       "    </tr>\n",
       "    <tr>\n",
       "      <td>4</td>\n",
       "      <td>Amon Amarth</td>\n",
       "      <td>3054</td>\n",
       "      <td>1988</td>\n",
       "      <td>Sweden</td>\n",
       "      <td>-</td>\n",
       "      <td>Melodic death</td>\n",
       "    </tr>\n",
       "  </tbody>\n",
       "</table>\n",
       "</div>"
      ],
      "text/plain": [
       "     band_name  fans formed          origin split  \\\n",
       "0  Iron Maiden  4195   1975  United Kingdom     -   \n",
       "1        Opeth  4147   1990          Sweden  1990   \n",
       "2    Metallica  3712   1981             USA     -   \n",
       "3     Megadeth  3105   1983             USA  1983   \n",
       "4  Amon Amarth  3054   1988          Sweden     -   \n",
       "\n",
       "                                              style  \n",
       "0                   New wave of british heavy,Heavy  \n",
       "1  Extreme progressive,Progressive rock,Progressive  \n",
       "2                             Heavy,Bay area thrash  \n",
       "3                            Thrash,Heavy,Hard rock  \n",
       "4                                     Melodic death  "
      ]
     },
     "execution_count": 3,
     "metadata": {},
     "output_type": "execute_result"
    }
   ],
   "source": [
    "# Loading data from the csv file. \n",
    "bands = pd.read_csv(\"/home/kaneeshadawood/Datasets/metal_bands_2017.csv\", encoding='latin', index_col=0)\n",
    "bands.head()   "
   ]
  },
  {
   "cell_type": "markdown",
   "metadata": {},
   "source": [
    "# The Dataset\n",
    "\n",
    "The data above provide us information about the metal bands of the countries on earth from the years 1960 to 2016. The information was originally scraped from the website http://metalstorm.net/. The data consists the following features:\n",
    "\n",
    "- band_name : the unique name given to the band\n",
    "- fans: the number of people devoted to the band\n",
    "- formed: when was the band formed\n",
    "- origin: the band's country of origin\n",
    "- split: when did the band split\n",
    "- style: the sub-genre style within metal music \n",
    "\n",
    "Now let's glean an insight into the contents of the dataframe:"
   ]
  },
  {
   "cell_type": "code",
   "execution_count": 4,
   "metadata": {},
   "outputs": [
    {
     "name": "stdout",
     "output_type": "stream",
     "text": [
      "<class 'pandas.core.frame.DataFrame'>\n",
      "Int64Index: 5000 entries, 0 to 4999\n",
      "Data columns (total 6 columns):\n",
      "band_name    5000 non-null object\n",
      "fans         5000 non-null int64\n",
      "formed       5000 non-null object\n",
      "origin       4992 non-null object\n",
      "split        5000 non-null object\n",
      "style        5000 non-null object\n",
      "dtypes: int64(1), object(5)\n",
      "memory usage: 273.4+ KB\n"
     ]
    }
   ],
   "source": [
    "bands.info() # basic information about the dataset"
   ]
  },
  {
   "cell_type": "markdown",
   "metadata": {},
   "source": [
    "As shown above there appears to be 8 missing values in the 'origin' feature. Let's confirm this with the following code."
   ]
  },
  {
   "cell_type": "code",
   "execution_count": 5,
   "metadata": {},
   "outputs": [
    {
     "data": {
      "text/plain": [
       "band_name    0\n",
       "fans         0\n",
       "formed       0\n",
       "origin       8\n",
       "split        0\n",
       "style        0\n",
       "dtype: int64"
      ]
     },
     "execution_count": 5,
     "metadata": {},
     "output_type": "execute_result"
    }
   ],
   "source": [
    "bands.isnull().sum() # Looking for null values"
   ]
  },
  {
   "cell_type": "markdown",
   "metadata": {},
   "source": [
    "Let's now check if there are any duplicates in this dataset."
   ]
  },
  {
   "cell_type": "code",
   "execution_count": 6,
   "metadata": {},
   "outputs": [
    {
     "data": {
      "text/plain": [
       "51"
      ]
     },
     "execution_count": 6,
     "metadata": {},
     "output_type": "execute_result"
    }
   ],
   "source": [
    "bands.band_name.duplicated().sum()"
   ]
  },
  {
   "cell_type": "markdown",
   "metadata": {},
   "source": [
    "As you could see above, certain entries have been duplicated in this dataset which means we may have additional rows with similar criteria.\n",
    "\n",
    "I am also curious in finding out the data types of each feature."
   ]
  },
  {
   "cell_type": "code",
   "execution_count": 7,
   "metadata": {},
   "outputs": [
    {
     "data": {
      "text/plain": [
       "band_name    object\n",
       "fans          int64\n",
       "formed       object\n",
       "origin       object\n",
       "split        object\n",
       "style        object\n",
       "dtype: object"
      ]
     },
     "execution_count": 7,
     "metadata": {},
     "output_type": "execute_result"
    }
   ],
   "source": [
    "bands.dtypes"
   ]
  },
  {
   "cell_type": "code",
   "execution_count": 8,
   "metadata": {},
   "outputs": [
    {
     "data": {
      "text/plain": [
       "(5000, 6)"
      ]
     },
     "execution_count": 8,
     "metadata": {},
     "output_type": "execute_result"
    }
   ],
   "source": [
    "bands.shape # the dimensions of the dataset"
   ]
  },
  {
   "cell_type": "markdown",
   "metadata": {},
   "source": [
    "# Data Cleaning"
   ]
  },
  {
   "cell_type": "markdown",
   "metadata": {},
   "source": [
    "I will be performing the following steps in cleaning the dataset:\n",
    "    \n",
    "- Remove duplicate rows\n",
    "- Remove missing values\n",
    "- Cast object dtype to int/category\n",
    "- Remove unwated characteristics from columns (such as '-')"
   ]
  },
  {
   "cell_type": "code",
   "execution_count": 9,
   "metadata": {
    "scrolled": true
   },
   "outputs": [],
   "source": [
    "# Dropping duplicate values\n",
    "bands.drop_duplicates(subset=None, inplace=True)"
   ]
  },
  {
   "cell_type": "code",
   "execution_count": 10,
   "metadata": {
    "scrolled": true
   },
   "outputs": [],
   "source": [
    "# Dropping missing values\n",
    "bands.dropna(inplace=True)  "
   ]
  },
  {
   "cell_type": "code",
   "execution_count": 24,
   "metadata": {},
   "outputs": [],
   "source": [
    "# removing unwanted characters from columns\n",
    "bands['formed'].replace(regex=True,inplace=True,to_replace=r'\\D',value=r'')\n",
    "bands['split'].replace(regex=True,inplace=True,to_replace=r'\\D',value=r'')"
   ]
  },
  {
   "cell_type": "code",
   "execution_count": 25,
   "metadata": {},
   "outputs": [
    {
     "data": {
      "text/plain": [
       "(dtype('O'), '\\n', dtype('int64'))"
      ]
     },
     "execution_count": 25,
     "metadata": {},
     "output_type": "execute_result"
    }
   ],
   "source": [
    "bands.origin.dtype, \"\\n\", bands.fans.dtype"
   ]
  },
  {
   "cell_type": "code",
   "execution_count": 26,
   "metadata": {},
   "outputs": [
    {
     "name": "stdout",
     "output_type": "stream",
     "text": [
      "category \n",
      " int32\n"
     ]
    }
   ],
   "source": [
    "bands[\"origin\"] = bands[\"origin\"].astype(\"category\")    #origin converted to category from object\n",
    "bands[\"fans\"] = bands[\"fans\"].astype(\"int32\")  #fans converted to int32 \n",
    "\n",
    "print(bands.origin.dtype, \"\\n\", bands.fans.dtype)"
   ]
  },
  {
   "cell_type": "code",
   "execution_count": 27,
   "metadata": {},
   "outputs": [],
   "source": [
    "bands[\"style\"] = bands[\"style\"].astype(\"category\")    #origin converted to category from object"
   ]
  },
  {
   "cell_type": "code",
   "execution_count": 28,
   "metadata": {},
   "outputs": [
    {
     "data": {
      "text/plain": [
       "band_name      object\n",
       "fans            int32\n",
       "formed         object\n",
       "origin       category\n",
       "split          object\n",
       "style        category\n",
       "dtype: object"
      ]
     },
     "execution_count": 28,
     "metadata": {},
     "output_type": "execute_result"
    }
   ],
   "source": [
    "bands.dtypes"
   ]
  },
  {
   "cell_type": "markdown",
   "metadata": {},
   "source": [
    "# Data Exploration"
   ]
  },
  {
   "cell_type": "markdown",
   "metadata": {},
   "source": [
    "Let's explore the dataset further by asking more questions:"
   ]
  },
  {
   "cell_type": "code",
   "execution_count": 11,
   "metadata": {},
   "outputs": [
    {
     "data": {
      "text/plain": [
       "113"
      ]
     },
     "execution_count": 11,
     "metadata": {},
     "output_type": "execute_result"
    }
   ],
   "source": [
    "# How many countries are listed in this dataset?\n",
    "\n",
    "origin = len(bands['origin'].unique()) \n",
    "origin"
   ]
  },
  {
   "cell_type": "code",
   "execution_count": 12,
   "metadata": {},
   "outputs": [
    {
     "data": {
      "text/plain": [
       "4941"
      ]
     },
     "execution_count": 12,
     "metadata": {},
     "output_type": "execute_result"
    }
   ],
   "source": [
    "# How many metal bands are included in the dataset?\n",
    "\n",
    "len(bands['band_name'].unique()) "
   ]
  },
  {
   "cell_type": "code",
   "execution_count": 13,
   "metadata": {},
   "outputs": [
    {
     "data": {
      "text/plain": [
       "1226"
      ]
     },
     "execution_count": 13,
     "metadata": {},
     "output_type": "execute_result"
    }
   ],
   "source": [
    "# How many unique styles?\n",
    "\n",
    "len(bands['style'].unique()) "
   ]
  },
  {
   "cell_type": "code",
   "execution_count": 14,
   "metadata": {},
   "outputs": [
    {
     "data": {
      "text/plain": [
       "count    4942.000000\n",
       "mean       70.381222\n",
       "std       229.014587\n",
       "min         0.000000\n",
       "25%         4.000000\n",
       "50%        11.000000\n",
       "75%        41.000000\n",
       "max      4195.000000\n",
       "Name: fans, dtype: float64"
      ]
     },
     "execution_count": 14,
     "metadata": {},
     "output_type": "execute_result"
    }
   ],
   "source": [
    "# Total number of metal addicts?\n",
    "\n",
    "bands['fans'].describe()"
   ]
  },
  {
   "cell_type": "code",
   "execution_count": 15,
   "metadata": {},
   "outputs": [
    {
     "data": {
      "text/plain": [
       "(4942, 6)"
      ]
     },
     "execution_count": 15,
     "metadata": {},
     "output_type": "execute_result"
    }
   ],
   "source": [
    "# How many instances/ rows in terms of fan base? aka how big is my sample size\n",
    "\n",
    "bands.shape"
   ]
  },
  {
   "cell_type": "code",
   "execution_count": 16,
   "metadata": {},
   "outputs": [
    {
     "data": {
      "text/plain": [
       "USA                       1123\n",
       "Sweden                     469\n",
       "Germany                    393\n",
       "United Kingdom             339\n",
       "Finland                    300\n",
       "                          ... \n",
       "Swaziland                    1\n",
       "Bolivia                      1\n",
       "United Kingdom, Greece       1\n",
       "Greece, USA                  1\n",
       "Lithuania, Germany           1\n",
       "Name: origin, Length: 113, dtype: int64"
      ]
     },
     "execution_count": 16,
     "metadata": {},
     "output_type": "execute_result"
    }
   ],
   "source": [
    "bands.origin.value_counts() # The number of bands "
   ]
  },
  {
   "cell_type": "code",
   "execution_count": 17,
   "metadata": {},
   "outputs": [
    {
     "data": {
      "text/plain": [
       "4942"
      ]
     },
     "execution_count": 17,
     "metadata": {},
     "output_type": "execute_result"
    }
   ],
   "source": [
    "bands['formed'].value_counts().sum()"
   ]
  },
  {
   "cell_type": "code",
   "execution_count": 18,
   "metadata": {},
   "outputs": [
    {
     "data": {
      "text/plain": [
       "4942"
      ]
     },
     "execution_count": 18,
     "metadata": {},
     "output_type": "execute_result"
    }
   ],
   "source": [
    "bands['split'].value_counts().sum()"
   ]
  },
  {
   "cell_type": "code",
   "execution_count": 19,
   "metadata": {},
   "outputs": [
    {
     "data": {
      "image/png": "[encoded data removed]",
      "text/plain": [
       "<Figure size 432x288 with 1 Axes>"
      ]
     },
     "metadata": {
      "needs_background": "light"
     },
     "output_type": "display_data"
    }
   ],
   "source": [
    "bands['fans'].hist(bins=100)\n",
    "plt.xlim(0, 400)\n",
    "\n",
    "plt.show() "
   ]
  },
  {
   "cell_type": "code",
   "execution_count": 20,
   "metadata": {},
   "outputs": [
    {
     "name": "stdout",
     "output_type": "stream",
     "text": [
      "Mean number of fans: 70.38122217725618 \n",
      "Standard deviation: 229.01458685240888 \n"
     ]
    },
    {
     "data": {
      "image/png": "[encoded data removed]",
      "text/plain": [
       "<Figure size 432x288 with 1 Axes>"
      ]
     },
     "metadata": {
      "needs_background": "light"
     },
     "output_type": "display_data"
    }
   ],
   "source": [
    "fans = bands['fans'].astype(str).astype(int)\n",
    "sns.distplot(fans,kde=False).set_title('Histogram of Fan numbers')\n",
    "print('Mean number of fans: %s '% fans.mean())\n",
    "print('Standard deviation: %s '% fans.std())"
   ]
  },
  {
   "cell_type": "markdown",
   "metadata": {},
   "source": [
    "From a count of 5000, more than 4000 fans are actively listening to metal music. The histogram is skewed to the right because the mean is larger than the the median (70.38 > 11). This means more metal bands have more than 50 fans interested in their music."
   ]
  },
  {
   "cell_type": "code",
   "execution_count": 21,
   "metadata": {},
   "outputs": [
    {
     "data": {
      "text/plain": [
       "<matplotlib.axes._subplots.AxesSubplot at 0x7d42c432e4a8>"
      ]
     },
     "execution_count": 21,
     "metadata": {},
     "output_type": "execute_result"
    },
    {
     "data": {
      "image/png": "[encoded data removed]",
      "text/plain": [
       "<Figure size 1080x288 with 1 Axes>"
      ]
     },
     "metadata": {
      "needs_background": "light"
     },
     "output_type": "display_data"
    }
   ],
   "source": [
    "# What countries produces the most metal bands? \n",
    "\n",
    "plt.figure(figsize=(15,4))\n",
    "bands_country = bands['origin'].value_counts()\n",
    "plt.title('Counts of Bands per Country')\n",
    "sns.barplot(x=bands_country[:15].keys(), y=bands_country[:15].values, palette=\"GnBu_d\")"
   ]
  },
  {
   "cell_type": "markdown",
   "metadata": {},
   "source": [
    "It is evident that the majority of metal music were originated in the United States. This can also be questioning because metal music was initially originated in the United Kingdom. Countries like USA, Sweden, and Germany have been forming more bands than the UK in the the given years. "
   ]
  },
  {
   "cell_type": "code",
   "execution_count": 22,
   "metadata": {},
   "outputs": [
    {
     "data": {
      "text/plain": [
       "<matplotlib.axes._subplots.AxesSubplot at 0x7d42c42b4cf8>"
      ]
     },
     "execution_count": 22,
     "metadata": {},
     "output_type": "execute_result"
    },
    {
     "data": {
      "image/png": "[encoded data removed]",
      "text/plain": [
       "<Figure size 1440x432 with 1 Axes>"
      ]
     },
     "metadata": {},
     "output_type": "display_data"
    }
   ],
   "source": [
    "# What are the most popular styles of metal music?\n",
    "\n",
    "sns.set(style=\"whitegrid\")\n",
    "\n",
    "plt.figure(figsize=(20,6)) \n",
    "style = bands['style'].value_counts()\n",
    "plt.title('Style Count')\n",
    "sns.barplot(x=style[:15].keys(), y=style[:15].values)"
   ]
  },
  {
   "cell_type": "markdown",
   "metadata": {},
   "source": [
    "Looks like the majority of fans prefer Black, Death, and Heavy sub-genres in metal music. This is not entirely surprising because Black has been one of the popular subgenres circulating among Heavy Metal music for over a decade."
   ]
  },
  {
   "cell_type": "markdown",
   "metadata": {},
   "source": [
    "Now that we have explored the dataset briefly, let me get into finding a solution to the problem stated above. For this purpose, I will be using the most popular Hypothesis Testing to further investigate our problem.\n",
    "\n",
    "# C. Hypothesis\n",
    "\n",
    "I believe that there is an increase in the number of fans by the country of origin.\n",
    "\n",
    "I will use the data provided to see if there is a substantial change in the increase of fans from which the bands were originated."
   ]
  },
  {
   "cell_type": "code",
   "execution_count": 35,
   "metadata": {},
   "outputs": [
    {
     "data": {
      "text/plain": [
       "347824"
      ]
     },
     "execution_count": 35,
     "metadata": {},
     "output_type": "execute_result"
    }
   ],
   "source": [
    "# Total number of fans in the dataset\n",
    "bands['fans'].values.sum()"
   ]
  },
  {
   "cell_type": "code",
   "execution_count": 33,
   "metadata": {},
   "outputs": [
    {
     "data": {
      "text/plain": [
       "99448"
      ]
     },
     "execution_count": 33,
     "metadata": {},
     "output_type": "execute_result"
    }
   ],
   "source": [
    "# Total Number of fans for USA \n",
    "\n",
    "USA = bands.loc[bands.origin=='USA', 'fans'].values.sum()\n",
    "USA"
   ]
  },
  {
   "cell_type": "code",
   "execution_count": 34,
   "metadata": {},
   "outputs": [
    {
     "data": {
      "text/plain": [
       "47192"
      ]
     },
     "execution_count": 34,
     "metadata": {},
     "output_type": "execute_result"
    }
   ],
   "source": [
    "# Total number of fans for Sweden\n",
    "bands.loc[bands.origin=='Sweden', 'fans'].values.sum()"
   ]
  },
  {
   "cell_type": "code",
   "execution_count": 36,
   "metadata": {
    "scrolled": false
   },
   "outputs": [
    {
     "name": "stdout",
     "output_type": "stream",
     "text": [
      "mean of USA\n",
      "88.55565449688335\n",
      "mean of Sweden\n",
      "100.62260127931769\n"
     ]
    }
   ],
   "source": [
    "print(\"mean of USA\")\n",
    "print(bands.loc[bands.origin=='USA', 'fans'].values.mean())\n",
    "\n",
    "print(\"mean of Sweden\")\n",
    "print(bands.loc[bands.origin=='Sweden', 'fans'].values.mean())"
   ]
  },
  {
   "cell_type": "markdown",
   "metadata": {},
   "source": [
    "# D. Method for Testing "
   ]
  },
  {
   "cell_type": "markdown",
   "metadata": {},
   "source": [
    "i)   Defining the Hypothesis:\n",
    "     A hypothesis is a tentative statement about the relationship of two or more variables on what you expect to        see in a particular study. In this study I expect to see an increase in the fanbase in USA in comparison to        Sweden. Thus, I came up with the following hypotheses:\n",
    "\n",
    "    - Null Hypothesis(Ho): There has been no increase in the number of fans by the country of origin.\n",
    "    - Alternative Hypothesis(Ha): There is an increase in the number of fans by the country of origin.\n",
    "\n",
    "ii)  Level of significance (alpha) = 0.05\n",
    "\n",
    "iii) Sample: \n",
    "    I will pick two countries populations for this experiment; namely, USA and Sweden. Since the populations           reflect the bands from 1960s, I will test to see if there is a change in the fanbase of the two countries           between 2010 through 2016. I believe that this result will provide us an accurate measure of the samples           chosen.\n",
    "\n",
    "iv)  P-value: \n",
    "     p-value is the probability of obtaining a sample more extreme than the ones observed in the dataset, assuming      that the null hypothesis is true. I will use this to compute the test statistics results.\n",
    "\n",
    "v)   Decision\n",
    "\n",
    "     If p-value < level of significance : reject the null hypothesis\n",
    "     If p-value > level of significance : fail to reject the null hypothesis\n"
   ]
  },
  {
   "cell_type": "markdown",
   "metadata": {},
   "source": [
    "Let's now mean of both bands:"
   ]
  },
  {
   "cell_type": "code",
   "execution_count": 80,
   "metadata": {
    "scrolled": true
   },
   "outputs": [
    {
     "name": "stdout",
     "output_type": "stream",
     "text": [
      "mean of USA\n",
      "89.96610169491525\n",
      "mean of Sweden\n",
      "99.88686131386861\n"
     ]
    }
   ],
   "source": [
    "print(\"mean of USA\")\n",
    "print(bands.loc[bands.origin=='USA', 'fans'].values.mean())\n",
    "\n",
    "print(\"mean of Sweden\")\n",
    "print(bands.loc[bands.origin=='Sweden', 'fans'].values.mean())"
   ]
  },
  {
   "cell_type": "code",
   "execution_count": 37,
   "metadata": {},
   "outputs": [
    {
     "name": "stdout",
     "output_type": "stream",
     "text": [
      "Standard Deviation of USA\n",
      "271.92071233142553\n",
      "Standard Deviation of Sweden\n",
      "325.2595820825528\n"
     ]
    }
   ],
   "source": [
    "print(\"Standard Deviation of USA\")\n",
    "print(bands.loc[bands.origin=='USA', 'fans'].values.std())\n",
    "\n",
    "print(\"Standard Deviation of Sweden\")\n",
    "print(bands.loc[bands.origin=='Sweden', 'fans'].values.std())"
   ]
  },
  {
   "cell_type": "markdown",
   "metadata": {},
   "source": [
    "Let's use scipy's T-test function to test the means of the two samples. From the statistical results gatered through this test we can then conclude our prediction."
   ]
  },
  {
   "cell_type": "code",
   "execution_count": 38,
   "metadata": {},
   "outputs": [
    {
     "data": {
      "text/plain": [
       "Ttest_indResult(statistic=-16.786541994876288, pvalue=3.1509651322518113e-63)"
      ]
     },
     "execution_count": 38,
     "metadata": {},
     "output_type": "execute_result"
    }
   ],
   "source": [
    "# T Test\n",
    "\n",
    "# mean1 = USA\n",
    "# mean2 = Sweden\n",
    "\n",
    "from scipy.stats import ttest_ind_from_stats\n",
    "\n",
    "ttest_ind_from_stats(mean1=88.55565449688335, std1=271.92071233142553, nobs1=347824,\n",
    "                     mean2=100.62260127931769, std2=325.2595820825528, nobs2=347824)\n"
   ]
  },
  {
   "cell_type": "markdown",
   "metadata": {},
   "source": [
    "The t-Test results are evaluated by taking into account the p-value. In statistical hypothesis testing, p-value weighs the strength of the evidence gathered through our data so that we can determine which claim is true. The p-value is a number between 0 and 1 and any value which falls below the confidence interval should be rejected.\n",
    "\n",
    "In evaluating the test statistics results of the fanbase for USA and Sweden, it is evident that the probability value is below the significance level(0.05). Given that the p-value is below our level of significance(p ≤ 0.05), we can now reject the null hypothesis. In other words, it is statistically significant that there is an increase in the number of fans for metal music in the US than Sweden. Therefore, it is evident that there is a relationship of the fanbase for metal music depending on its country of origin."
   ]
  },
  {
   "cell_type": "markdown",
   "metadata": {},
   "source": [
    "# Conclusion:\n",
    "\n",
    "Now that we have already gathered our insights through the experiment, it is evident that there is an increase in the number of fans based on its origin. \n",
    "\n",
    "This dataset does not reflect the demographics of the fans, geographic locations in each country, and their levels of rating for the bands. I believe that we can strenghten our decision making by taking a closer look at these secondary metrics. Moreover, it is important to conduct further tests every six months or quarterly and analyze if our hypothsis holds true."
   ]
  },
  {
   "cell_type": "markdown",
   "metadata": {},
   "source": [
    "# Resources:\n",
    "\n",
    "- The Dataset: (https://www.kaggle.com/mrpantherson/metal-by-nation)\n",
    "- Metal Storm (http://metalstorm.net/)\n",
    "- Death of Heavy Metal (https://observer.com/2016/01/the-slow-death-of-heavy-metal/)"
   ]
  }
 ],
 "metadata": {
  "kernelspec": {
   "display_name": "Python 3",
   "language": "python",
   "name": "python3"
  },
  "language_info": {
   "codemirror_mode": {
    "name": "ipython",
    "version": 3
   },
   "file_extension": ".py",
   "mimetype": "text/x-python",
   "name": "python",
   "nbconvert_exporter": "python",
   "pygments_lexer": "ipython3",
   "version": "3.5.3"
  }
 },
 "nbformat": 4,
 "nbformat_minor": 2
}
